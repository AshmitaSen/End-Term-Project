{
 "cells": [
  {
   "cell_type": "code",
   "execution_count": 150,
   "id": "8aca1abd",
   "metadata": {},
   "outputs": [],
   "source": [
    "import pandas as pd\n",
    "import numpy as np\n",
    "import matplotlib.pyplot as plt"
   ]
  },
  {
   "cell_type": "markdown",
   "id": "8d312749",
   "metadata": {},
   "source": [
    "File Read, Assigning columns"
   ]
  },
  {
   "cell_type": "code",
   "execution_count": 151,
   "id": "3b05ed8f",
   "metadata": {},
   "outputs": [],
   "source": [
    "data=pd.read_csv(r\"C:\\Users\\ASHMITA\\Downloads\\customer-churn.csv\")"
   ]
  },
  {
   "cell_type": "markdown",
   "id": "2974b3d7",
   "metadata": {},
   "source": [
    "Viewing Last Rows"
   ]
  },
  {
   "cell_type": "code",
   "execution_count": 152,
   "id": "d66d2dcc",
   "metadata": {},
   "outputs": [
    {
     "data": {
      "text/html": [
       "<div>\n",
       "<style scoped>\n",
       "    .dataframe tbody tr th:only-of-type {\n",
       "        vertical-align: middle;\n",
       "    }\n",
       "\n",
       "    .dataframe tbody tr th {\n",
       "        vertical-align: top;\n",
       "    }\n",
       "\n",
       "    .dataframe thead th {\n",
       "        text-align: right;\n",
       "    }\n",
       "</style>\n",
       "<table border=\"1\" class=\"dataframe\">\n",
       "  <thead>\n",
       "    <tr style=\"text-align: right;\">\n",
       "      <th></th>\n",
       "      <th>7590-VHVEG</th>\n",
       "      <th>Female</th>\n",
       "      <th>0</th>\n",
       "      <th>Yes</th>\n",
       "      <th>1</th>\n",
       "      <th>No phone service</th>\n",
       "      <th>DSL</th>\n",
       "      <th>No</th>\n",
       "      <th>Yes.1</th>\n",
       "      <th>No.1</th>\n",
       "      <th>No.2</th>\n",
       "      <th>Month-to-month</th>\n",
       "      <th>Electronic check</th>\n",
       "      <th>29.85</th>\n",
       "      <th>29.85.1</th>\n",
       "      <th>No.3</th>\n",
       "    </tr>\n",
       "  </thead>\n",
       "  <tbody>\n",
       "    <tr>\n",
       "      <th>2497</th>\n",
       "      <td>1134-YWTYF</td>\n",
       "      <td>Male</td>\n",
       "      <td>0</td>\n",
       "      <td>Yes</td>\n",
       "      <td>27</td>\n",
       "      <td>No</td>\n",
       "      <td>DSL</td>\n",
       "      <td>No</td>\n",
       "      <td>Yes</td>\n",
       "      <td>No</td>\n",
       "      <td>Yes</td>\n",
       "      <td>Month-to-month</td>\n",
       "      <td>Electronic check</td>\n",
       "      <td>53.8</td>\n",
       "      <td>1389.85</td>\n",
       "      <td>No</td>\n",
       "    </tr>\n",
       "    <tr>\n",
       "      <th>2498</th>\n",
       "      <td>6061-GWWAV</td>\n",
       "      <td>Male</td>\n",
       "      <td>0</td>\n",
       "      <td>No</td>\n",
       "      <td>41</td>\n",
       "      <td>No</td>\n",
       "      <td>DSL</td>\n",
       "      <td>Yes</td>\n",
       "      <td>Yes</td>\n",
       "      <td>Yes</td>\n",
       "      <td>No</td>\n",
       "      <td>One year</td>\n",
       "      <td>Mailed check</td>\n",
       "      <td>70.2</td>\n",
       "      <td>2894.55</td>\n",
       "      <td>No</td>\n",
       "    </tr>\n",
       "  </tbody>\n",
       "</table>\n",
       "</div>"
      ],
      "text/plain": [
       "      7590-VHVEG Female  0  Yes   1 No phone service  DSL   No Yes.1 No.1  \\\n",
       "2497  1134-YWTYF   Male  0  Yes  27               No  DSL   No   Yes   No   \n",
       "2498  6061-GWWAV   Male  0   No  41               No  DSL  Yes   Yes  Yes   \n",
       "\n",
       "     No.2  Month-to-month  Electronic check  29.85  29.85.1 No.3  \n",
       "2497  Yes  Month-to-month  Electronic check   53.8  1389.85   No  \n",
       "2498   No        One year      Mailed check   70.2  2894.55   No  "
      ]
     },
     "execution_count": 152,
     "metadata": {},
     "output_type": "execute_result"
    }
   ],
   "source": [
    "data[-2:]"
   ]
  },
  {
   "cell_type": "code",
   "execution_count": 153,
   "id": "5ba51933",
   "metadata": {},
   "outputs": [],
   "source": [
    "data=pd.read_csv(r\"C:\\Users\\ASHMITA\\Downloads\\customer-churn.csv\",names=['CustomerID','Gender','SeniorCitizen','Partner','Tenure','MultipleLines','InternetService','OnlineSecurity','OnlineBackup','DeviceProtection','TechSupport','Contract','PaymentMethod','MonthlyCharges','TotalCharges','Churn'])"
   ]
  },
  {
   "cell_type": "code",
   "execution_count": 154,
   "id": "0af42010",
   "metadata": {},
   "outputs": [
    {
     "data": {
      "text/html": [
       "<div>\n",
       "<style scoped>\n",
       "    .dataframe tbody tr th:only-of-type {\n",
       "        vertical-align: middle;\n",
       "    }\n",
       "\n",
       "    .dataframe tbody tr th {\n",
       "        vertical-align: top;\n",
       "    }\n",
       "\n",
       "    .dataframe thead th {\n",
       "        text-align: right;\n",
       "    }\n",
       "</style>\n",
       "<table border=\"1\" class=\"dataframe\">\n",
       "  <thead>\n",
       "    <tr style=\"text-align: right;\">\n",
       "      <th></th>\n",
       "      <th>CustomerID</th>\n",
       "      <th>Gender</th>\n",
       "      <th>SeniorCitizen</th>\n",
       "      <th>Partner</th>\n",
       "      <th>Tenure</th>\n",
       "      <th>MultipleLines</th>\n",
       "      <th>InternetService</th>\n",
       "      <th>OnlineSecurity</th>\n",
       "      <th>OnlineBackup</th>\n",
       "      <th>DeviceProtection</th>\n",
       "      <th>TechSupport</th>\n",
       "      <th>Contract</th>\n",
       "      <th>PaymentMethod</th>\n",
       "      <th>MonthlyCharges</th>\n",
       "      <th>TotalCharges</th>\n",
       "      <th>Churn</th>\n",
       "    </tr>\n",
       "  </thead>\n",
       "  <tbody>\n",
       "    <tr>\n",
       "      <th>0</th>\n",
       "      <td>7590-VHVEG</td>\n",
       "      <td>Female</td>\n",
       "      <td>0</td>\n",
       "      <td>Yes</td>\n",
       "      <td>1</td>\n",
       "      <td>No phone service</td>\n",
       "      <td>DSL</td>\n",
       "      <td>No</td>\n",
       "      <td>Yes</td>\n",
       "      <td>No</td>\n",
       "      <td>No</td>\n",
       "      <td>Month-to-month</td>\n",
       "      <td>Electronic check</td>\n",
       "      <td>29.85</td>\n",
       "      <td>29.85</td>\n",
       "      <td>No</td>\n",
       "    </tr>\n",
       "    <tr>\n",
       "      <th>1</th>\n",
       "      <td>5575-GNVDE</td>\n",
       "      <td>Male</td>\n",
       "      <td>0</td>\n",
       "      <td>No</td>\n",
       "      <td>34</td>\n",
       "      <td>No</td>\n",
       "      <td>DSL</td>\n",
       "      <td>Yes</td>\n",
       "      <td>No</td>\n",
       "      <td>Yes</td>\n",
       "      <td>No</td>\n",
       "      <td>One year</td>\n",
       "      <td>Mailed check</td>\n",
       "      <td>56.95</td>\n",
       "      <td>1889.50</td>\n",
       "      <td>No</td>\n",
       "    </tr>\n",
       "    <tr>\n",
       "      <th>2</th>\n",
       "      <td>3668-QPYBK</td>\n",
       "      <td>Male</td>\n",
       "      <td>0</td>\n",
       "      <td>No</td>\n",
       "      <td>2</td>\n",
       "      <td>No</td>\n",
       "      <td>DSL</td>\n",
       "      <td>Yes</td>\n",
       "      <td>Yes</td>\n",
       "      <td>No</td>\n",
       "      <td>No</td>\n",
       "      <td>Month-to-month</td>\n",
       "      <td>Mailed check</td>\n",
       "      <td>53.85</td>\n",
       "      <td>108.15</td>\n",
       "      <td>Yes</td>\n",
       "    </tr>\n",
       "  </tbody>\n",
       "</table>\n",
       "</div>"
      ],
      "text/plain": [
       "   CustomerID  Gender  SeniorCitizen Partner  Tenure     MultipleLines  \\\n",
       "0  7590-VHVEG  Female              0     Yes       1  No phone service   \n",
       "1  5575-GNVDE    Male              0      No      34                No   \n",
       "2  3668-QPYBK    Male              0      No       2                No   \n",
       "\n",
       "  InternetService OnlineSecurity OnlineBackup DeviceProtection TechSupport  \\\n",
       "0             DSL             No          Yes               No          No   \n",
       "1             DSL            Yes           No              Yes          No   \n",
       "2             DSL            Yes          Yes               No          No   \n",
       "\n",
       "         Contract     PaymentMethod  MonthlyCharges  TotalCharges Churn  \n",
       "0  Month-to-month  Electronic check           29.85         29.85    No  \n",
       "1        One year      Mailed check           56.95       1889.50    No  \n",
       "2  Month-to-month      Mailed check           53.85        108.15   Yes  "
      ]
     },
     "execution_count": 154,
     "metadata": {},
     "output_type": "execute_result"
    }
   ],
   "source": [
    "data.head(3)"
   ]
  },
  {
   "cell_type": "markdown",
   "id": "fdc7d4fc",
   "metadata": {},
   "source": [
    "Data Type of Data"
   ]
  },
  {
   "cell_type": "code",
   "execution_count": 155,
   "id": "39c2eef2",
   "metadata": {},
   "outputs": [
    {
     "data": {
      "text/plain": [
       "pandas.core.frame.DataFrame"
      ]
     },
     "execution_count": 155,
     "metadata": {},
     "output_type": "execute_result"
    }
   ],
   "source": [
    "type(data)"
   ]
  },
  {
   "cell_type": "markdown",
   "id": "cf330a31",
   "metadata": {},
   "source": [
    "Data Type of each column"
   ]
  },
  {
   "cell_type": "code",
   "execution_count": 156,
   "id": "24313da2",
   "metadata": {},
   "outputs": [
    {
     "name": "stdout",
     "output_type": "stream",
     "text": [
      "<class 'pandas.core.frame.DataFrame'>\n",
      "RangeIndex: 2500 entries, 0 to 2499\n",
      "Data columns (total 16 columns):\n",
      " #   Column            Non-Null Count  Dtype  \n",
      "---  ------            --------------  -----  \n",
      " 0   CustomerID        2500 non-null   object \n",
      " 1   Gender            2500 non-null   object \n",
      " 2   SeniorCitizen     2500 non-null   int64  \n",
      " 3   Partner           2500 non-null   object \n",
      " 4   Tenure            2500 non-null   int64  \n",
      " 5   MultipleLines     2500 non-null   object \n",
      " 6   InternetService   2500 non-null   object \n",
      " 7   OnlineSecurity    2500 non-null   object \n",
      " 8   OnlineBackup      2500 non-null   object \n",
      " 9   DeviceProtection  2500 non-null   object \n",
      " 10  TechSupport       2500 non-null   object \n",
      " 11  Contract          2500 non-null   object \n",
      " 12  PaymentMethod     2500 non-null   object \n",
      " 13  MonthlyCharges    2500 non-null   float64\n",
      " 14  TotalCharges      2495 non-null   float64\n",
      " 15  Churn             2500 non-null   object \n",
      "dtypes: float64(2), int64(2), object(12)\n",
      "memory usage: 312.6+ KB\n"
     ]
    }
   ],
   "source": [
    "data.info()"
   ]
  },
  {
   "cell_type": "markdown",
   "id": "1467de84",
   "metadata": {},
   "source": [
    "Identifying Null Values"
   ]
  },
  {
   "cell_type": "code",
   "execution_count": 157,
   "id": "c496eee0",
   "metadata": {},
   "outputs": [],
   "source": [
    "data=pd.read_csv(r\"C:\\Users\\ASHMITA\\Downloads\\customer-churn.csv\",names=['CustomerID','Gender','SeniorCitizen','Partner','Tenure','MultipleLines','InternetService','OnlineSecurity','OnlineBackup','DeviceProtection','TechSupport','Contract','PaymentMethod','MonthlyCharges','TotalCharges','Churn'],na_values=['?',' '])"
   ]
  },
  {
   "cell_type": "code",
   "execution_count": 158,
   "id": "9744866e",
   "metadata": {},
   "outputs": [
    {
     "name": "stdout",
     "output_type": "stream",
     "text": [
      "<class 'pandas.core.frame.DataFrame'>\n",
      "RangeIndex: 2500 entries, 0 to 2499\n",
      "Data columns (total 16 columns):\n",
      " #   Column            Non-Null Count  Dtype  \n",
      "---  ------            --------------  -----  \n",
      " 0   CustomerID        2500 non-null   object \n",
      " 1   Gender            2497 non-null   object \n",
      " 2   SeniorCitizen     2500 non-null   int64  \n",
      " 3   Partner           2500 non-null   object \n",
      " 4   Tenure            2500 non-null   int64  \n",
      " 5   MultipleLines     2500 non-null   object \n",
      " 6   InternetService   2500 non-null   object \n",
      " 7   OnlineSecurity    2500 non-null   object \n",
      " 8   OnlineBackup      2500 non-null   object \n",
      " 9   DeviceProtection  2500 non-null   object \n",
      " 10  TechSupport       2500 non-null   object \n",
      " 11  Contract          2500 non-null   object \n",
      " 12  PaymentMethod     2500 non-null   object \n",
      " 13  MonthlyCharges    2500 non-null   float64\n",
      " 14  TotalCharges      2495 non-null   float64\n",
      " 15  Churn             2500 non-null   object \n",
      "dtypes: float64(2), int64(2), object(12)\n",
      "memory usage: 312.6+ KB\n"
     ]
    }
   ],
   "source": [
    "data.info()"
   ]
  },
  {
   "cell_type": "markdown",
   "id": "a4a9e64e",
   "metadata": {},
   "source": [
    "There are Null values for Gender and Total Charges"
   ]
  },
  {
   "cell_type": "code",
   "execution_count": 159,
   "id": "c3fd4677",
   "metadata": {},
   "outputs": [
    {
     "data": {
      "text/plain": [
       "Male      1277\n",
       "Female    1223\n",
       "Name: Gender, dtype: int64"
      ]
     },
     "execution_count": 159,
     "metadata": {},
     "output_type": "execute_result"
    }
   ],
   "source": [
    "df['Gender'].value_counts()"
   ]
  },
  {
   "cell_type": "markdown",
   "id": "aba61296",
   "metadata": {},
   "source": [
    "Identifying most frequent value of Gender and replacing the null value with it"
   ]
  },
  {
   "cell_type": "code",
   "execution_count": 160,
   "id": "f644e64e",
   "metadata": {},
   "outputs": [],
   "source": [
    "df['Gender'].replace({'?':'Male'},inplace=True)"
   ]
  },
  {
   "cell_type": "code",
   "execution_count": 161,
   "id": "c8e51a7b",
   "metadata": {},
   "outputs": [
    {
     "data": {
      "text/plain": [
       "Male      1277\n",
       "Female    1223\n",
       "Name: Gender, dtype: int64"
      ]
     },
     "execution_count": 161,
     "metadata": {},
     "output_type": "execute_result"
    }
   ],
   "source": [
    "df['Gender'].value_counts()"
   ]
  },
  {
   "cell_type": "code",
   "execution_count": 162,
   "id": "6ea7e556",
   "metadata": {},
   "outputs": [
    {
     "name": "stdout",
     "output_type": "stream",
     "text": [
      "<class 'pandas.core.frame.DataFrame'>\n",
      "RangeIndex: 2500 entries, 0 to 2499\n",
      "Data columns (total 16 columns):\n",
      " #   Column            Non-Null Count  Dtype  \n",
      "---  ------            --------------  -----  \n",
      " 0   CustomerID        2500 non-null   object \n",
      " 1   Gender            2500 non-null   object \n",
      " 2   SeniorCitizen     2500 non-null   int64  \n",
      " 3   Partner           2500 non-null   object \n",
      " 4   Tenure            2500 non-null   int64  \n",
      " 5   MultipleLines     2500 non-null   object \n",
      " 6   InternetService   2500 non-null   object \n",
      " 7   OnlineSecurity    2500 non-null   object \n",
      " 8   OnlineBackup      2500 non-null   object \n",
      " 9   DeviceProtection  2500 non-null   object \n",
      " 10  TechSupport       2500 non-null   object \n",
      " 11  Contract          2500 non-null   object \n",
      " 12  PaymentMethod     2500 non-null   object \n",
      " 13  MonthlyCharges    2500 non-null   float64\n",
      " 14  TotalCharges      2500 non-null   float64\n",
      " 15  Churn             2500 non-null   object \n",
      "dtypes: float64(2), int64(2), object(12)\n",
      "memory usage: 312.6+ KB\n"
     ]
    }
   ],
   "source": [
    "df.info()"
   ]
  },
  {
   "cell_type": "markdown",
   "id": "d757414f",
   "metadata": {},
   "source": [
    "Filling up Null Values for Total Charges using median"
   ]
  },
  {
   "cell_type": "code",
   "execution_count": 163,
   "id": "df83fb88",
   "metadata": {},
   "outputs": [
    {
     "data": {
      "text/plain": [
       "count    2500.000000\n",
       "mean     2297.298000\n",
       "std      2264.583887\n",
       "min        18.800000\n",
       "25%       414.575000\n",
       "50%      1410.250000\n",
       "75%      3873.300000\n",
       "max      8564.750000\n",
       "Name: TotalCharges, dtype: float64"
      ]
     },
     "execution_count": 163,
     "metadata": {},
     "output_type": "execute_result"
    }
   ],
   "source": [
    "df['TotalCharges'].describe()"
   ]
  },
  {
   "cell_type": "code",
   "execution_count": 164,
   "id": "ca7a9c29",
   "metadata": {},
   "outputs": [],
   "source": [
    "df['TotalCharges'].fillna(df['TotalCharges'].median(),inplace=True)"
   ]
  },
  {
   "cell_type": "code",
   "execution_count": 165,
   "id": "6db761a0",
   "metadata": {},
   "outputs": [
    {
     "name": "stdout",
     "output_type": "stream",
     "text": [
      "<class 'pandas.core.frame.DataFrame'>\n",
      "RangeIndex: 2500 entries, 0 to 2499\n",
      "Data columns (total 16 columns):\n",
      " #   Column            Non-Null Count  Dtype  \n",
      "---  ------            --------------  -----  \n",
      " 0   CustomerID        2500 non-null   object \n",
      " 1   Gender            2500 non-null   object \n",
      " 2   SeniorCitizen     2500 non-null   int64  \n",
      " 3   Partner           2500 non-null   object \n",
      " 4   Tenure            2500 non-null   int64  \n",
      " 5   MultipleLines     2500 non-null   object \n",
      " 6   InternetService   2500 non-null   object \n",
      " 7   OnlineSecurity    2500 non-null   object \n",
      " 8   OnlineBackup      2500 non-null   object \n",
      " 9   DeviceProtection  2500 non-null   object \n",
      " 10  TechSupport       2500 non-null   object \n",
      " 11  Contract          2500 non-null   object \n",
      " 12  PaymentMethod     2500 non-null   object \n",
      " 13  MonthlyCharges    2500 non-null   float64\n",
      " 14  TotalCharges      2500 non-null   float64\n",
      " 15  Churn             2500 non-null   object \n",
      "dtypes: float64(2), int64(2), object(12)\n",
      "memory usage: 312.6+ KB\n"
     ]
    }
   ],
   "source": [
    "df.info()"
   ]
  },
  {
   "cell_type": "markdown",
   "id": "70f60a9e",
   "metadata": {},
   "source": [
    "All Null Values are replaced."
   ]
  },
  {
   "cell_type": "code",
   "execution_count": 166,
   "id": "3c49fdb8",
   "metadata": {},
   "outputs": [
    {
     "data": {
      "text/plain": [
       "Index(['CustomerID', 'Gender', 'SeniorCitizen', 'Partner', 'Tenure',\n",
       "       'MultipleLines', 'InternetService', 'OnlineSecurity', 'OnlineBackup',\n",
       "       'DeviceProtection', 'TechSupport', 'Contract', 'PaymentMethod',\n",
       "       'MonthlyCharges', 'TotalCharges', 'Churn'],\n",
       "      dtype='object')"
      ]
     },
     "execution_count": 166,
     "metadata": {},
     "output_type": "execute_result"
    }
   ],
   "source": [
    "data.columns"
   ]
  },
  {
   "cell_type": "code",
   "execution_count": 167,
   "id": "fab4f6e0",
   "metadata": {},
   "outputs": [
    {
     "data": {
      "text/plain": [
       "Fiber optic    1127\n",
       "DSL             845\n",
       "No              528\n",
       "Name: InternetService, dtype: int64"
      ]
     },
     "execution_count": 167,
     "metadata": {},
     "output_type": "execute_result"
    }
   ],
   "source": [
    "data['InternetService'].value_counts()"
   ]
  },
  {
   "cell_type": "code",
   "execution_count": 168,
   "id": "30b0438f",
   "metadata": {},
   "outputs": [
    {
     "data": {
      "text/html": [
       "<div>\n",
       "<style scoped>\n",
       "    .dataframe tbody tr th:only-of-type {\n",
       "        vertical-align: middle;\n",
       "    }\n",
       "\n",
       "    .dataframe tbody tr th {\n",
       "        vertical-align: top;\n",
       "    }\n",
       "\n",
       "    .dataframe thead th {\n",
       "        text-align: right;\n",
       "    }\n",
       "</style>\n",
       "<table border=\"1\" class=\"dataframe\">\n",
       "  <thead>\n",
       "    <tr style=\"text-align: right;\">\n",
       "      <th></th>\n",
       "      <th>SeniorCitizen</th>\n",
       "      <th>Tenure</th>\n",
       "      <th>MonthlyCharges</th>\n",
       "      <th>TotalCharges</th>\n",
       "    </tr>\n",
       "  </thead>\n",
       "  <tbody>\n",
       "    <tr>\n",
       "      <th>count</th>\n",
       "      <td>1127.000000</td>\n",
       "      <td>1127.000000</td>\n",
       "      <td>1127.000000</td>\n",
       "      <td>1127.000000</td>\n",
       "    </tr>\n",
       "    <tr>\n",
       "      <th>mean</th>\n",
       "      <td>0.262644</td>\n",
       "      <td>32.643301</td>\n",
       "      <td>91.498314</td>\n",
       "      <td>3167.471074</td>\n",
       "    </tr>\n",
       "    <tr>\n",
       "      <th>std</th>\n",
       "      <td>0.440266</td>\n",
       "      <td>24.232016</td>\n",
       "      <td>12.446401</td>\n",
       "      <td>2537.350771</td>\n",
       "    </tr>\n",
       "    <tr>\n",
       "      <th>min</th>\n",
       "      <td>0.000000</td>\n",
       "      <td>1.000000</td>\n",
       "      <td>68.850000</td>\n",
       "      <td>69.250000</td>\n",
       "    </tr>\n",
       "    <tr>\n",
       "      <th>25%</th>\n",
       "      <td>0.000000</td>\n",
       "      <td>9.000000</td>\n",
       "      <td>80.775000</td>\n",
       "      <td>823.100000</td>\n",
       "    </tr>\n",
       "    <tr>\n",
       "      <th>50%</th>\n",
       "      <td>0.000000</td>\n",
       "      <td>30.000000</td>\n",
       "      <td>91.250000</td>\n",
       "      <td>2647.200000</td>\n",
       "    </tr>\n",
       "    <tr>\n",
       "      <th>75%</th>\n",
       "      <td>1.000000</td>\n",
       "      <td>55.000000</td>\n",
       "      <td>100.775000</td>\n",
       "      <td>5362.175000</td>\n",
       "    </tr>\n",
       "    <tr>\n",
       "      <th>max</th>\n",
       "      <td>1.000000</td>\n",
       "      <td>72.000000</td>\n",
       "      <td>118.650000</td>\n",
       "      <td>8564.750000</td>\n",
       "    </tr>\n",
       "  </tbody>\n",
       "</table>\n",
       "</div>"
      ],
      "text/plain": [
       "       SeniorCitizen       Tenure  MonthlyCharges  TotalCharges\n",
       "count    1127.000000  1127.000000     1127.000000   1127.000000\n",
       "mean        0.262644    32.643301       91.498314   3167.471074\n",
       "std         0.440266    24.232016       12.446401   2537.350771\n",
       "min         0.000000     1.000000       68.850000     69.250000\n",
       "25%         0.000000     9.000000       80.775000    823.100000\n",
       "50%         0.000000    30.000000       91.250000   2647.200000\n",
       "75%         1.000000    55.000000      100.775000   5362.175000\n",
       "max         1.000000    72.000000      118.650000   8564.750000"
      ]
     },
     "execution_count": 168,
     "metadata": {},
     "output_type": "execute_result"
    }
   ],
   "source": [
    "data.loc[data['InternetService']=='Fiber optic',:].describe()"
   ]
  },
  {
   "cell_type": "markdown",
   "id": "7d6410b2",
   "metadata": {},
   "source": [
    "Average Monthly Charges for Fiber Optic=91.498"
   ]
  },
  {
   "cell_type": "code",
   "execution_count": 169,
   "id": "c77a3705",
   "metadata": {},
   "outputs": [
    {
     "data": {
      "text/html": [
       "<div>\n",
       "<style scoped>\n",
       "    .dataframe tbody tr th:only-of-type {\n",
       "        vertical-align: middle;\n",
       "    }\n",
       "\n",
       "    .dataframe tbody tr th {\n",
       "        vertical-align: top;\n",
       "    }\n",
       "\n",
       "    .dataframe thead th {\n",
       "        text-align: right;\n",
       "    }\n",
       "</style>\n",
       "<table border=\"1\" class=\"dataframe\">\n",
       "  <thead>\n",
       "    <tr style=\"text-align: right;\">\n",
       "      <th></th>\n",
       "      <th>SeniorCitizen</th>\n",
       "      <th>Tenure</th>\n",
       "      <th>MonthlyCharges</th>\n",
       "      <th>TotalCharges</th>\n",
       "    </tr>\n",
       "  </thead>\n",
       "  <tbody>\n",
       "    <tr>\n",
       "      <th>count</th>\n",
       "      <td>845.000000</td>\n",
       "      <td>845.000000</td>\n",
       "      <td>845.000000</td>\n",
       "      <td>842.000000</td>\n",
       "    </tr>\n",
       "    <tr>\n",
       "      <th>mean</th>\n",
       "      <td>0.107692</td>\n",
       "      <td>32.704142</td>\n",
       "      <td>58.802189</td>\n",
       "      <td>2150.813242</td>\n",
       "    </tr>\n",
       "    <tr>\n",
       "      <th>std</th>\n",
       "      <td>0.310175</td>\n",
       "      <td>25.362351</td>\n",
       "      <td>16.150974</td>\n",
       "      <td>1936.454375</td>\n",
       "    </tr>\n",
       "    <tr>\n",
       "      <th>min</th>\n",
       "      <td>0.000000</td>\n",
       "      <td>0.000000</td>\n",
       "      <td>24.250000</td>\n",
       "      <td>24.600000</td>\n",
       "    </tr>\n",
       "    <tr>\n",
       "      <th>25%</th>\n",
       "      <td>0.000000</td>\n",
       "      <td>8.000000</td>\n",
       "      <td>47.800000</td>\n",
       "      <td>426.000000</td>\n",
       "    </tr>\n",
       "    <tr>\n",
       "      <th>50%</th>\n",
       "      <td>0.000000</td>\n",
       "      <td>29.000000</td>\n",
       "      <td>57.750000</td>\n",
       "      <td>1612.850000</td>\n",
       "    </tr>\n",
       "    <tr>\n",
       "      <th>75%</th>\n",
       "      <td>0.000000</td>\n",
       "      <td>58.000000</td>\n",
       "      <td>70.450000</td>\n",
       "      <td>3580.425000</td>\n",
       "    </tr>\n",
       "    <tr>\n",
       "      <th>max</th>\n",
       "      <td>1.000000</td>\n",
       "      <td>72.000000</td>\n",
       "      <td>93.250000</td>\n",
       "      <td>6782.150000</td>\n",
       "    </tr>\n",
       "  </tbody>\n",
       "</table>\n",
       "</div>"
      ],
      "text/plain": [
       "       SeniorCitizen      Tenure  MonthlyCharges  TotalCharges\n",
       "count     845.000000  845.000000      845.000000    842.000000\n",
       "mean        0.107692   32.704142       58.802189   2150.813242\n",
       "std         0.310175   25.362351       16.150974   1936.454375\n",
       "min         0.000000    0.000000       24.250000     24.600000\n",
       "25%         0.000000    8.000000       47.800000    426.000000\n",
       "50%         0.000000   29.000000       57.750000   1612.850000\n",
       "75%         0.000000   58.000000       70.450000   3580.425000\n",
       "max         1.000000   72.000000       93.250000   6782.150000"
      ]
     },
     "execution_count": 169,
     "metadata": {},
     "output_type": "execute_result"
    }
   ],
   "source": [
    "data.loc[data['InternetService']=='DSL',:].describe()"
   ]
  },
  {
   "cell_type": "markdown",
   "id": "a82f251d",
   "metadata": {},
   "source": [
    "Average Monthly Charges for DSL=58.80"
   ]
  },
  {
   "cell_type": "code",
   "execution_count": 170,
   "id": "d54ceceb",
   "metadata": {},
   "outputs": [
    {
     "data": {
      "text/html": [
       "<div>\n",
       "<style scoped>\n",
       "    .dataframe tbody tr th:only-of-type {\n",
       "        vertical-align: middle;\n",
       "    }\n",
       "\n",
       "    .dataframe tbody tr th {\n",
       "        vertical-align: top;\n",
       "    }\n",
       "\n",
       "    .dataframe thead th {\n",
       "        text-align: right;\n",
       "    }\n",
       "</style>\n",
       "<table border=\"1\" class=\"dataframe\">\n",
       "  <thead>\n",
       "    <tr style=\"text-align: right;\">\n",
       "      <th></th>\n",
       "      <th>SeniorCitizen</th>\n",
       "      <th>Tenure</th>\n",
       "      <th>MonthlyCharges</th>\n",
       "      <th>TotalCharges</th>\n",
       "    </tr>\n",
       "  </thead>\n",
       "  <tbody>\n",
       "    <tr>\n",
       "      <th>count</th>\n",
       "      <td>528.000000</td>\n",
       "      <td>528.000000</td>\n",
       "      <td>528.000000</td>\n",
       "      <td>526.000000</td>\n",
       "    </tr>\n",
       "    <tr>\n",
       "      <th>mean</th>\n",
       "      <td>0.028409</td>\n",
       "      <td>31.117424</td>\n",
       "      <td>21.155777</td>\n",
       "      <td>675.796768</td>\n",
       "    </tr>\n",
       "    <tr>\n",
       "      <th>std</th>\n",
       "      <td>0.166296</td>\n",
       "      <td>24.271500</td>\n",
       "      <td>2.183887</td>\n",
       "      <td>542.264041</td>\n",
       "    </tr>\n",
       "    <tr>\n",
       "      <th>min</th>\n",
       "      <td>0.000000</td>\n",
       "      <td>0.000000</td>\n",
       "      <td>18.400000</td>\n",
       "      <td>18.800000</td>\n",
       "    </tr>\n",
       "    <tr>\n",
       "      <th>25%</th>\n",
       "      <td>0.000000</td>\n",
       "      <td>8.000000</td>\n",
       "      <td>19.700000</td>\n",
       "      <td>164.562500</td>\n",
       "    </tr>\n",
       "    <tr>\n",
       "      <th>50%</th>\n",
       "      <td>0.000000</td>\n",
       "      <td>26.000000</td>\n",
       "      <td>20.150000</td>\n",
       "      <td>559.225000</td>\n",
       "    </tr>\n",
       "    <tr>\n",
       "      <th>75%</th>\n",
       "      <td>0.000000</td>\n",
       "      <td>53.000000</td>\n",
       "      <td>21.100000</td>\n",
       "      <td>1139.100000</td>\n",
       "    </tr>\n",
       "    <tr>\n",
       "      <th>max</th>\n",
       "      <td>1.000000</td>\n",
       "      <td>72.000000</td>\n",
       "      <td>26.800000</td>\n",
       "      <td>1859.100000</td>\n",
       "    </tr>\n",
       "  </tbody>\n",
       "</table>\n",
       "</div>"
      ],
      "text/plain": [
       "       SeniorCitizen      Tenure  MonthlyCharges  TotalCharges\n",
       "count     528.000000  528.000000      528.000000    526.000000\n",
       "mean        0.028409   31.117424       21.155777    675.796768\n",
       "std         0.166296   24.271500        2.183887    542.264041\n",
       "min         0.000000    0.000000       18.400000     18.800000\n",
       "25%         0.000000    8.000000       19.700000    164.562500\n",
       "50%         0.000000   26.000000       20.150000    559.225000\n",
       "75%         0.000000   53.000000       21.100000   1139.100000\n",
       "max         1.000000   72.000000       26.800000   1859.100000"
      ]
     },
     "execution_count": 170,
     "metadata": {},
     "output_type": "execute_result"
    }
   ],
   "source": [
    "data.loc[data['InternetService']=='No',:].describe()"
   ]
  },
  {
   "cell_type": "markdown",
   "id": "4408be7f",
   "metadata": {},
   "source": [
    "Average Monthly Charges for Fiber No=21.155"
   ]
  },
  {
   "cell_type": "code",
   "execution_count": 190,
   "id": "2a3ecec7",
   "metadata": {},
   "outputs": [
    {
     "data": {
      "text/plain": [
       "<matplotlib.collections.PathCollection at 0x21fc79cf370>"
      ]
     },
     "execution_count": 190,
     "metadata": {},
     "output_type": "execute_result"
    },
    {
     "data": {
      "image/png": "[encoded data removed]",
      "text/plain": [
       "<Figure size 640x480 with 1 Axes>"
      ]
     },
     "metadata": {},
     "output_type": "display_data"
    }
   ],
   "source": [
    "fig,ax=plt.subplots()\n",
    "ax.scatter('MonthlyCharges','TotalCharges',data=data)\n"
   ]
  },
  {
   "cell_type": "markdown",
   "id": "eb462c3e",
   "metadata": {},
   "source": [
    "As Monthly charge rises the total charges also rises"
   ]
  },
  {
   "cell_type": "code",
   "execution_count": 172,
   "id": "fbc6fb76",
   "metadata": {},
   "outputs": [
    {
     "data": {
      "text/plain": [
       "Male      1274\n",
       "Female    1223\n",
       "Name: Gender, dtype: int64"
      ]
     },
     "execution_count": 172,
     "metadata": {},
     "output_type": "execute_result"
    }
   ],
   "source": [
    "data['Gender'].value_counts()"
   ]
  },
  {
   "cell_type": "markdown",
   "id": "7669f136",
   "metadata": {},
   "source": [
    "Feature Scaling"
   ]
  },
  {
   "cell_type": "code",
   "execution_count": 173,
   "id": "309abf0d",
   "metadata": {},
   "outputs": [],
   "source": [
    "from sklearn.preprocessing import MinMaxScaler\n",
    "mms=MinMaxScaler()\n",
    "temp=data.drop(['CustomerID', 'Gender', 'SeniorCitizen', 'Partner', 'Tenure',\n",
    "       'MultipleLines', 'InternetService', 'OnlineSecurity', 'OnlineBackup',\n",
    "       'DeviceProtection', 'TechSupport', 'Contract', 'PaymentMethod', 'TotalCharges', 'Churn'],axis=1)\n",
    "MonthlyCharges_Scaled=mms.fit_transform(temp)"
   ]
  },
  {
   "cell_type": "code",
   "execution_count": 184,
   "id": "28e79a0e",
   "metadata": {},
   "outputs": [],
   "source": [
    "MonthlyCharges_Scaled=pd.DataFrame(MonthlyCharges_Scaled)"
   ]
  },
  {
   "cell_type": "code",
   "execution_count": 188,
   "id": "70c327a1",
   "metadata": {},
   "outputs": [
    {
     "data": {
      "text/html": [
       "<div>\n",
       "<style scoped>\n",
       "    .dataframe tbody tr th:only-of-type {\n",
       "        vertical-align: middle;\n",
       "    }\n",
       "\n",
       "    .dataframe tbody tr th {\n",
       "        vertical-align: top;\n",
       "    }\n",
       "\n",
       "    .dataframe thead th {\n",
       "        text-align: right;\n",
       "    }\n",
       "</style>\n",
       "<table border=\"1\" class=\"dataframe\">\n",
       "  <thead>\n",
       "    <tr style=\"text-align: right;\">\n",
       "      <th></th>\n",
       "      <th>CustomerID</th>\n",
       "      <th>Gender</th>\n",
       "      <th>SeniorCitizen</th>\n",
       "      <th>Partner</th>\n",
       "      <th>Tenure</th>\n",
       "      <th>MultipleLines</th>\n",
       "      <th>InternetService</th>\n",
       "      <th>OnlineSecurity</th>\n",
       "      <th>OnlineBackup</th>\n",
       "      <th>DeviceProtection</th>\n",
       "      <th>TechSupport</th>\n",
       "      <th>Contract</th>\n",
       "      <th>PaymentMethod</th>\n",
       "      <th>MonthlyCharges</th>\n",
       "      <th>TotalCharges</th>\n",
       "      <th>Churn</th>\n",
       "      <th>0</th>\n",
       "    </tr>\n",
       "  </thead>\n",
       "  <tbody>\n",
       "    <tr>\n",
       "      <th>0</th>\n",
       "      <td>7590-VHVEG</td>\n",
       "      <td>Female</td>\n",
       "      <td>0</td>\n",
       "      <td>Yes</td>\n",
       "      <td>1</td>\n",
       "      <td>No phone service</td>\n",
       "      <td>DSL</td>\n",
       "      <td>No</td>\n",
       "      <td>Yes</td>\n",
       "      <td>No</td>\n",
       "      <td>No</td>\n",
       "      <td>Month-to-month</td>\n",
       "      <td>Electronic check</td>\n",
       "      <td>29.85</td>\n",
       "      <td>29.85</td>\n",
       "      <td>No</td>\n",
       "      <td>0.114214</td>\n",
       "    </tr>\n",
       "    <tr>\n",
       "      <th>1</th>\n",
       "      <td>5575-GNVDE</td>\n",
       "      <td>Male</td>\n",
       "      <td>0</td>\n",
       "      <td>No</td>\n",
       "      <td>34</td>\n",
       "      <td>No</td>\n",
       "      <td>DSL</td>\n",
       "      <td>Yes</td>\n",
       "      <td>No</td>\n",
       "      <td>Yes</td>\n",
       "      <td>No</td>\n",
       "      <td>One year</td>\n",
       "      <td>Mailed check</td>\n",
       "      <td>56.95</td>\n",
       "      <td>1889.50</td>\n",
       "      <td>No</td>\n",
       "      <td>0.384539</td>\n",
       "    </tr>\n",
       "    <tr>\n",
       "      <th>2</th>\n",
       "      <td>3668-QPYBK</td>\n",
       "      <td>Male</td>\n",
       "      <td>0</td>\n",
       "      <td>No</td>\n",
       "      <td>2</td>\n",
       "      <td>No</td>\n",
       "      <td>DSL</td>\n",
       "      <td>Yes</td>\n",
       "      <td>Yes</td>\n",
       "      <td>No</td>\n",
       "      <td>No</td>\n",
       "      <td>Month-to-month</td>\n",
       "      <td>Mailed check</td>\n",
       "      <td>53.85</td>\n",
       "      <td>108.15</td>\n",
       "      <td>Yes</td>\n",
       "      <td>0.353616</td>\n",
       "    </tr>\n",
       "    <tr>\n",
       "      <th>3</th>\n",
       "      <td>7795-CFOCW</td>\n",
       "      <td>Male</td>\n",
       "      <td>0</td>\n",
       "      <td>No</td>\n",
       "      <td>45</td>\n",
       "      <td>No phone service</td>\n",
       "      <td>DSL</td>\n",
       "      <td>Yes</td>\n",
       "      <td>No</td>\n",
       "      <td>Yes</td>\n",
       "      <td>Yes</td>\n",
       "      <td>One year</td>\n",
       "      <td>Bank transfer (automatic)</td>\n",
       "      <td>42.30</td>\n",
       "      <td>1840.75</td>\n",
       "      <td>No</td>\n",
       "      <td>0.238404</td>\n",
       "    </tr>\n",
       "    <tr>\n",
       "      <th>4</th>\n",
       "      <td>9237-HQITU</td>\n",
       "      <td>Female</td>\n",
       "      <td>0</td>\n",
       "      <td>No</td>\n",
       "      <td>2</td>\n",
       "      <td>No</td>\n",
       "      <td>Fiber optic</td>\n",
       "      <td>No</td>\n",
       "      <td>No</td>\n",
       "      <td>No</td>\n",
       "      <td>No</td>\n",
       "      <td>Month-to-month</td>\n",
       "      <td>Electronic check</td>\n",
       "      <td>70.70</td>\n",
       "      <td>151.65</td>\n",
       "      <td>Yes</td>\n",
       "      <td>0.521696</td>\n",
       "    </tr>\n",
       "    <tr>\n",
       "      <th>...</th>\n",
       "      <td>...</td>\n",
       "      <td>...</td>\n",
       "      <td>...</td>\n",
       "      <td>...</td>\n",
       "      <td>...</td>\n",
       "      <td>...</td>\n",
       "      <td>...</td>\n",
       "      <td>...</td>\n",
       "      <td>...</td>\n",
       "      <td>...</td>\n",
       "      <td>...</td>\n",
       "      <td>...</td>\n",
       "      <td>...</td>\n",
       "      <td>...</td>\n",
       "      <td>...</td>\n",
       "      <td>...</td>\n",
       "      <td>...</td>\n",
       "    </tr>\n",
       "    <tr>\n",
       "      <th>2495</th>\n",
       "      <td>6188-UXBBR</td>\n",
       "      <td>Female</td>\n",
       "      <td>0</td>\n",
       "      <td>Yes</td>\n",
       "      <td>38</td>\n",
       "      <td>No</td>\n",
       "      <td>No</td>\n",
       "      <td>No internet service</td>\n",
       "      <td>No internet service</td>\n",
       "      <td>No internet service</td>\n",
       "      <td>No internet service</td>\n",
       "      <td>One year</td>\n",
       "      <td>Credit card (automatic)</td>\n",
       "      <td>20.25</td>\n",
       "      <td>814.75</td>\n",
       "      <td>No</td>\n",
       "      <td>0.018454</td>\n",
       "    </tr>\n",
       "    <tr>\n",
       "      <th>2496</th>\n",
       "      <td>2333-KWEWW</td>\n",
       "      <td>Male</td>\n",
       "      <td>0</td>\n",
       "      <td>No</td>\n",
       "      <td>18</td>\n",
       "      <td>No</td>\n",
       "      <td>No</td>\n",
       "      <td>No internet service</td>\n",
       "      <td>No internet service</td>\n",
       "      <td>No internet service</td>\n",
       "      <td>No internet service</td>\n",
       "      <td>Two year</td>\n",
       "      <td>Credit card (automatic)</td>\n",
       "      <td>20.05</td>\n",
       "      <td>388.60</td>\n",
       "      <td>No</td>\n",
       "      <td>0.016459</td>\n",
       "    </tr>\n",
       "    <tr>\n",
       "      <th>2497</th>\n",
       "      <td>5702-SKUOB</td>\n",
       "      <td>Female</td>\n",
       "      <td>0</td>\n",
       "      <td>Yes</td>\n",
       "      <td>4</td>\n",
       "      <td>No</td>\n",
       "      <td>No</td>\n",
       "      <td>No internet service</td>\n",
       "      <td>No internet service</td>\n",
       "      <td>No internet service</td>\n",
       "      <td>No internet service</td>\n",
       "      <td>Month-to-month</td>\n",
       "      <td>Mailed check</td>\n",
       "      <td>19.60</td>\n",
       "      <td>93.45</td>\n",
       "      <td>No</td>\n",
       "      <td>0.011970</td>\n",
       "    </tr>\n",
       "    <tr>\n",
       "      <th>2498</th>\n",
       "      <td>1134-YWTYF</td>\n",
       "      <td>Male</td>\n",
       "      <td>0</td>\n",
       "      <td>Yes</td>\n",
       "      <td>27</td>\n",
       "      <td>No</td>\n",
       "      <td>DSL</td>\n",
       "      <td>No</td>\n",
       "      <td>Yes</td>\n",
       "      <td>No</td>\n",
       "      <td>Yes</td>\n",
       "      <td>Month-to-month</td>\n",
       "      <td>Electronic check</td>\n",
       "      <td>53.80</td>\n",
       "      <td>1389.85</td>\n",
       "      <td>No</td>\n",
       "      <td>0.353117</td>\n",
       "    </tr>\n",
       "    <tr>\n",
       "      <th>2499</th>\n",
       "      <td>6061-GWWAV</td>\n",
       "      <td>Male</td>\n",
       "      <td>0</td>\n",
       "      <td>No</td>\n",
       "      <td>41</td>\n",
       "      <td>No</td>\n",
       "      <td>DSL</td>\n",
       "      <td>Yes</td>\n",
       "      <td>Yes</td>\n",
       "      <td>Yes</td>\n",
       "      <td>No</td>\n",
       "      <td>One year</td>\n",
       "      <td>Mailed check</td>\n",
       "      <td>70.20</td>\n",
       "      <td>2894.55</td>\n",
       "      <td>No</td>\n",
       "      <td>0.516708</td>\n",
       "    </tr>\n",
       "  </tbody>\n",
       "</table>\n",
       "<p>2500 rows × 17 columns</p>\n",
       "</div>"
      ],
      "text/plain": [
       "      CustomerID  Gender  SeniorCitizen Partner  Tenure     MultipleLines  \\\n",
       "0     7590-VHVEG  Female              0     Yes       1  No phone service   \n",
       "1     5575-GNVDE    Male              0      No      34                No   \n",
       "2     3668-QPYBK    Male              0      No       2                No   \n",
       "3     7795-CFOCW    Male              0      No      45  No phone service   \n",
       "4     9237-HQITU  Female              0      No       2                No   \n",
       "...          ...     ...            ...     ...     ...               ...   \n",
       "2495  6188-UXBBR  Female              0     Yes      38                No   \n",
       "2496  2333-KWEWW    Male              0      No      18                No   \n",
       "2497  5702-SKUOB  Female              0     Yes       4                No   \n",
       "2498  1134-YWTYF    Male              0     Yes      27                No   \n",
       "2499  6061-GWWAV    Male              0      No      41                No   \n",
       "\n",
       "     InternetService       OnlineSecurity         OnlineBackup  \\\n",
       "0                DSL                   No                  Yes   \n",
       "1                DSL                  Yes                   No   \n",
       "2                DSL                  Yes                  Yes   \n",
       "3                DSL                  Yes                   No   \n",
       "4        Fiber optic                   No                   No   \n",
       "...              ...                  ...                  ...   \n",
       "2495              No  No internet service  No internet service   \n",
       "2496              No  No internet service  No internet service   \n",
       "2497              No  No internet service  No internet service   \n",
       "2498             DSL                   No                  Yes   \n",
       "2499             DSL                  Yes                  Yes   \n",
       "\n",
       "         DeviceProtection          TechSupport        Contract  \\\n",
       "0                      No                   No  Month-to-month   \n",
       "1                     Yes                   No        One year   \n",
       "2                      No                   No  Month-to-month   \n",
       "3                     Yes                  Yes        One year   \n",
       "4                      No                   No  Month-to-month   \n",
       "...                   ...                  ...             ...   \n",
       "2495  No internet service  No internet service        One year   \n",
       "2496  No internet service  No internet service        Two year   \n",
       "2497  No internet service  No internet service  Month-to-month   \n",
       "2498                   No                  Yes  Month-to-month   \n",
       "2499                  Yes                   No        One year   \n",
       "\n",
       "                  PaymentMethod  MonthlyCharges  TotalCharges Churn         0  \n",
       "0              Electronic check           29.85         29.85    No  0.114214  \n",
       "1                  Mailed check           56.95       1889.50    No  0.384539  \n",
       "2                  Mailed check           53.85        108.15   Yes  0.353616  \n",
       "3     Bank transfer (automatic)           42.30       1840.75    No  0.238404  \n",
       "4              Electronic check           70.70        151.65   Yes  0.521696  \n",
       "...                         ...             ...           ...   ...       ...  \n",
       "2495    Credit card (automatic)           20.25        814.75    No  0.018454  \n",
       "2496    Credit card (automatic)           20.05        388.60    No  0.016459  \n",
       "2497               Mailed check           19.60         93.45    No  0.011970  \n",
       "2498           Electronic check           53.80       1389.85    No  0.353117  \n",
       "2499               Mailed check           70.20       2894.55    No  0.516708  \n",
       "\n",
       "[2500 rows x 17 columns]"
      ]
     },
     "execution_count": 188,
     "metadata": {},
     "output_type": "execute_result"
    }
   ],
   "source": [
    "temp=data.drop(['CustomerID', 'Gender', 'SeniorCitizen', 'Partner', 'Tenure',\n",
    "       'MultipleLines', 'InternetService', 'OnlineSecurity', 'OnlineBackup',\n",
    "       'DeviceProtection', 'TechSupport', 'Contract', 'PaymentMethod', 'MonthlyCharges', 'Churn'],axis=1)\n",
    "TotalCharges_Scaled=mms.fit_transform(temp)\n",
    "data.join(MonthlyCharges_Scaled)"
   ]
  },
  {
   "cell_type": "code",
   "execution_count": 187,
   "id": "05b00bd1",
   "metadata": {},
   "outputs": [
    {
     "data": {
      "text/html": [
       "<div>\n",
       "<style scoped>\n",
       "    .dataframe tbody tr th:only-of-type {\n",
       "        vertical-align: middle;\n",
       "    }\n",
       "\n",
       "    .dataframe tbody tr th {\n",
       "        vertical-align: top;\n",
       "    }\n",
       "\n",
       "    .dataframe thead th {\n",
       "        text-align: right;\n",
       "    }\n",
       "</style>\n",
       "<table border=\"1\" class=\"dataframe\">\n",
       "  <thead>\n",
       "    <tr style=\"text-align: right;\">\n",
       "      <th></th>\n",
       "      <th>CustomerID</th>\n",
       "      <th>Gender</th>\n",
       "      <th>SeniorCitizen</th>\n",
       "      <th>Partner</th>\n",
       "      <th>Tenure</th>\n",
       "      <th>MultipleLines</th>\n",
       "      <th>InternetService</th>\n",
       "      <th>OnlineSecurity</th>\n",
       "      <th>OnlineBackup</th>\n",
       "      <th>DeviceProtection</th>\n",
       "      <th>TechSupport</th>\n",
       "      <th>Contract</th>\n",
       "      <th>PaymentMethod</th>\n",
       "      <th>MonthlyCharges</th>\n",
       "      <th>TotalCharges</th>\n",
       "      <th>Churn</th>\n",
       "      <th>0</th>\n",
       "    </tr>\n",
       "  </thead>\n",
       "  <tbody>\n",
       "    <tr>\n",
       "      <th>0</th>\n",
       "      <td>7590-VHVEG</td>\n",
       "      <td>Female</td>\n",
       "      <td>0</td>\n",
       "      <td>Yes</td>\n",
       "      <td>1</td>\n",
       "      <td>No phone service</td>\n",
       "      <td>DSL</td>\n",
       "      <td>No</td>\n",
       "      <td>Yes</td>\n",
       "      <td>No</td>\n",
       "      <td>No</td>\n",
       "      <td>Month-to-month</td>\n",
       "      <td>Electronic check</td>\n",
       "      <td>29.85</td>\n",
       "      <td>29.85</td>\n",
       "      <td>No</td>\n",
       "      <td>0.001293</td>\n",
       "    </tr>\n",
       "    <tr>\n",
       "      <th>1</th>\n",
       "      <td>5575-GNVDE</td>\n",
       "      <td>Male</td>\n",
       "      <td>0</td>\n",
       "      <td>No</td>\n",
       "      <td>34</td>\n",
       "      <td>No</td>\n",
       "      <td>DSL</td>\n",
       "      <td>Yes</td>\n",
       "      <td>No</td>\n",
       "      <td>Yes</td>\n",
       "      <td>No</td>\n",
       "      <td>One year</td>\n",
       "      <td>Mailed check</td>\n",
       "      <td>56.95</td>\n",
       "      <td>1889.50</td>\n",
       "      <td>No</td>\n",
       "      <td>0.218899</td>\n",
       "    </tr>\n",
       "    <tr>\n",
       "      <th>2</th>\n",
       "      <td>3668-QPYBK</td>\n",
       "      <td>Male</td>\n",
       "      <td>0</td>\n",
       "      <td>No</td>\n",
       "      <td>2</td>\n",
       "      <td>No</td>\n",
       "      <td>DSL</td>\n",
       "      <td>Yes</td>\n",
       "      <td>Yes</td>\n",
       "      <td>No</td>\n",
       "      <td>No</td>\n",
       "      <td>Month-to-month</td>\n",
       "      <td>Mailed check</td>\n",
       "      <td>53.85</td>\n",
       "      <td>108.15</td>\n",
       "      <td>Yes</td>\n",
       "      <td>0.010455</td>\n",
       "    </tr>\n",
       "    <tr>\n",
       "      <th>3</th>\n",
       "      <td>7795-CFOCW</td>\n",
       "      <td>Male</td>\n",
       "      <td>0</td>\n",
       "      <td>No</td>\n",
       "      <td>45</td>\n",
       "      <td>No phone service</td>\n",
       "      <td>DSL</td>\n",
       "      <td>Yes</td>\n",
       "      <td>No</td>\n",
       "      <td>Yes</td>\n",
       "      <td>Yes</td>\n",
       "      <td>One year</td>\n",
       "      <td>Bank transfer (automatic)</td>\n",
       "      <td>42.30</td>\n",
       "      <td>1840.75</td>\n",
       "      <td>No</td>\n",
       "      <td>0.213195</td>\n",
       "    </tr>\n",
       "    <tr>\n",
       "      <th>4</th>\n",
       "      <td>9237-HQITU</td>\n",
       "      <td>Female</td>\n",
       "      <td>0</td>\n",
       "      <td>No</td>\n",
       "      <td>2</td>\n",
       "      <td>No</td>\n",
       "      <td>Fiber optic</td>\n",
       "      <td>No</td>\n",
       "      <td>No</td>\n",
       "      <td>No</td>\n",
       "      <td>No</td>\n",
       "      <td>Month-to-month</td>\n",
       "      <td>Electronic check</td>\n",
       "      <td>70.70</td>\n",
       "      <td>151.65</td>\n",
       "      <td>Yes</td>\n",
       "      <td>0.015545</td>\n",
       "    </tr>\n",
       "    <tr>\n",
       "      <th>...</th>\n",
       "      <td>...</td>\n",
       "      <td>...</td>\n",
       "      <td>...</td>\n",
       "      <td>...</td>\n",
       "      <td>...</td>\n",
       "      <td>...</td>\n",
       "      <td>...</td>\n",
       "      <td>...</td>\n",
       "      <td>...</td>\n",
       "      <td>...</td>\n",
       "      <td>...</td>\n",
       "      <td>...</td>\n",
       "      <td>...</td>\n",
       "      <td>...</td>\n",
       "      <td>...</td>\n",
       "      <td>...</td>\n",
       "      <td>...</td>\n",
       "    </tr>\n",
       "    <tr>\n",
       "      <th>2495</th>\n",
       "      <td>6188-UXBBR</td>\n",
       "      <td>Female</td>\n",
       "      <td>0</td>\n",
       "      <td>Yes</td>\n",
       "      <td>38</td>\n",
       "      <td>No</td>\n",
       "      <td>No</td>\n",
       "      <td>No internet service</td>\n",
       "      <td>No internet service</td>\n",
       "      <td>No internet service</td>\n",
       "      <td>No internet service</td>\n",
       "      <td>One year</td>\n",
       "      <td>Credit card (automatic)</td>\n",
       "      <td>20.25</td>\n",
       "      <td>814.75</td>\n",
       "      <td>No</td>\n",
       "      <td>0.093138</td>\n",
       "    </tr>\n",
       "    <tr>\n",
       "      <th>2496</th>\n",
       "      <td>2333-KWEWW</td>\n",
       "      <td>Male</td>\n",
       "      <td>0</td>\n",
       "      <td>No</td>\n",
       "      <td>18</td>\n",
       "      <td>No</td>\n",
       "      <td>No</td>\n",
       "      <td>No internet service</td>\n",
       "      <td>No internet service</td>\n",
       "      <td>No internet service</td>\n",
       "      <td>No internet service</td>\n",
       "      <td>Two year</td>\n",
       "      <td>Credit card (automatic)</td>\n",
       "      <td>20.05</td>\n",
       "      <td>388.60</td>\n",
       "      <td>No</td>\n",
       "      <td>0.043272</td>\n",
       "    </tr>\n",
       "    <tr>\n",
       "      <th>2497</th>\n",
       "      <td>5702-SKUOB</td>\n",
       "      <td>Female</td>\n",
       "      <td>0</td>\n",
       "      <td>Yes</td>\n",
       "      <td>4</td>\n",
       "      <td>No</td>\n",
       "      <td>No</td>\n",
       "      <td>No internet service</td>\n",
       "      <td>No internet service</td>\n",
       "      <td>No internet service</td>\n",
       "      <td>No internet service</td>\n",
       "      <td>Month-to-month</td>\n",
       "      <td>Mailed check</td>\n",
       "      <td>19.60</td>\n",
       "      <td>93.45</td>\n",
       "      <td>No</td>\n",
       "      <td>0.008735</td>\n",
       "    </tr>\n",
       "    <tr>\n",
       "      <th>2498</th>\n",
       "      <td>1134-YWTYF</td>\n",
       "      <td>Male</td>\n",
       "      <td>0</td>\n",
       "      <td>Yes</td>\n",
       "      <td>27</td>\n",
       "      <td>No</td>\n",
       "      <td>DSL</td>\n",
       "      <td>No</td>\n",
       "      <td>Yes</td>\n",
       "      <td>No</td>\n",
       "      <td>Yes</td>\n",
       "      <td>Month-to-month</td>\n",
       "      <td>Electronic check</td>\n",
       "      <td>53.80</td>\n",
       "      <td>1389.85</td>\n",
       "      <td>No</td>\n",
       "      <td>0.160433</td>\n",
       "    </tr>\n",
       "    <tr>\n",
       "      <th>2499</th>\n",
       "      <td>6061-GWWAV</td>\n",
       "      <td>Male</td>\n",
       "      <td>0</td>\n",
       "      <td>No</td>\n",
       "      <td>41</td>\n",
       "      <td>No</td>\n",
       "      <td>DSL</td>\n",
       "      <td>Yes</td>\n",
       "      <td>Yes</td>\n",
       "      <td>Yes</td>\n",
       "      <td>No</td>\n",
       "      <td>One year</td>\n",
       "      <td>Mailed check</td>\n",
       "      <td>70.20</td>\n",
       "      <td>2894.55</td>\n",
       "      <td>No</td>\n",
       "      <td>0.336504</td>\n",
       "    </tr>\n",
       "  </tbody>\n",
       "</table>\n",
       "<p>2500 rows × 17 columns</p>\n",
       "</div>"
      ],
      "text/plain": [
       "      CustomerID  Gender  SeniorCitizen Partner  Tenure     MultipleLines  \\\n",
       "0     7590-VHVEG  Female              0     Yes       1  No phone service   \n",
       "1     5575-GNVDE    Male              0      No      34                No   \n",
       "2     3668-QPYBK    Male              0      No       2                No   \n",
       "3     7795-CFOCW    Male              0      No      45  No phone service   \n",
       "4     9237-HQITU  Female              0      No       2                No   \n",
       "...          ...     ...            ...     ...     ...               ...   \n",
       "2495  6188-UXBBR  Female              0     Yes      38                No   \n",
       "2496  2333-KWEWW    Male              0      No      18                No   \n",
       "2497  5702-SKUOB  Female              0     Yes       4                No   \n",
       "2498  1134-YWTYF    Male              0     Yes      27                No   \n",
       "2499  6061-GWWAV    Male              0      No      41                No   \n",
       "\n",
       "     InternetService       OnlineSecurity         OnlineBackup  \\\n",
       "0                DSL                   No                  Yes   \n",
       "1                DSL                  Yes                   No   \n",
       "2                DSL                  Yes                  Yes   \n",
       "3                DSL                  Yes                   No   \n",
       "4        Fiber optic                   No                   No   \n",
       "...              ...                  ...                  ...   \n",
       "2495              No  No internet service  No internet service   \n",
       "2496              No  No internet service  No internet service   \n",
       "2497              No  No internet service  No internet service   \n",
       "2498             DSL                   No                  Yes   \n",
       "2499             DSL                  Yes                  Yes   \n",
       "\n",
       "         DeviceProtection          TechSupport        Contract  \\\n",
       "0                      No                   No  Month-to-month   \n",
       "1                     Yes                   No        One year   \n",
       "2                      No                   No  Month-to-month   \n",
       "3                     Yes                  Yes        One year   \n",
       "4                      No                   No  Month-to-month   \n",
       "...                   ...                  ...             ...   \n",
       "2495  No internet service  No internet service        One year   \n",
       "2496  No internet service  No internet service        Two year   \n",
       "2497  No internet service  No internet service  Month-to-month   \n",
       "2498                   No                  Yes  Month-to-month   \n",
       "2499                  Yes                   No        One year   \n",
       "\n",
       "                  PaymentMethod  MonthlyCharges  TotalCharges Churn         0  \n",
       "0              Electronic check           29.85         29.85    No  0.001293  \n",
       "1                  Mailed check           56.95       1889.50    No  0.218899  \n",
       "2                  Mailed check           53.85        108.15   Yes  0.010455  \n",
       "3     Bank transfer (automatic)           42.30       1840.75    No  0.213195  \n",
       "4              Electronic check           70.70        151.65   Yes  0.015545  \n",
       "...                         ...             ...           ...   ...       ...  \n",
       "2495    Credit card (automatic)           20.25        814.75    No  0.093138  \n",
       "2496    Credit card (automatic)           20.05        388.60    No  0.043272  \n",
       "2497               Mailed check           19.60         93.45    No  0.008735  \n",
       "2498           Electronic check           53.80       1389.85    No  0.160433  \n",
       "2499               Mailed check           70.20       2894.55    No  0.336504  \n",
       "\n",
       "[2500 rows x 17 columns]"
      ]
     },
     "execution_count": 187,
     "metadata": {},
     "output_type": "execute_result"
    }
   ],
   "source": [
    "TotalCharges_Scaled=pd.DataFrame(TotalCharges_Scaled)\n",
    "data.join(TotalCharges_Scaled)"
   ]
  },
  {
   "cell_type": "markdown",
   "id": "6b13d9f5",
   "metadata": {},
   "source": [
    "Train Test Split"
   ]
  },
  {
   "cell_type": "code",
   "execution_count": null,
   "id": "c59b2c7c",
   "metadata": {},
   "outputs": [],
   "source": []
  },
  {
   "cell_type": "code",
   "execution_count": 136,
   "id": "ed6517eb",
   "metadata": {},
   "outputs": [],
   "source": [
    "from sklearn.model_selection import train_test_split"
   ]
  },
  {
   "cell_type": "code",
   "execution_count": 138,
   "id": "ae533442",
   "metadata": {},
   "outputs": [
    {
     "data": {
      "text/plain": [
       "Index(['CustomerID', 'Gender', 'SeniorCitizen', 'Partner', 'Tenure',\n",
       "       'MultipleLines', 'InternetService', 'OnlineSecurity', 'OnlineBackup',\n",
       "       'DeviceProtection', 'TechSupport', 'Contract', 'PaymentMethod',\n",
       "       'MonthlyCharges', 'TotalCharges', 'Churn'],\n",
       "      dtype='object')"
      ]
     },
     "execution_count": 138,
     "metadata": {},
     "output_type": "execute_result"
    }
   ],
   "source": [
    "data.columns"
   ]
  },
  {
   "cell_type": "code",
   "execution_count": 139,
   "id": "d9a4e8e2",
   "metadata": {},
   "outputs": [],
   "source": [
    "y=data['Churn']\n",
    "x=data['MonthlyCharges']"
   ]
  },
  {
   "cell_type": "code",
   "execution_count": 140,
   "id": "e2a82a2e",
   "metadata": {},
   "outputs": [],
   "source": [
    "x_train,x_test,y_train,y_test=train_test_split(x,y,train_size=0.6)"
   ]
  },
  {
   "cell_type": "code",
   "execution_count": 141,
   "id": "e22ebbe9",
   "metadata": {},
   "outputs": [
    {
     "data": {
      "text/plain": [
       "(2500, 16)"
      ]
     },
     "execution_count": 141,
     "metadata": {},
     "output_type": "execute_result"
    }
   ],
   "source": [
    "data.shape"
   ]
  },
  {
   "cell_type": "code",
   "execution_count": 142,
   "id": "b011f153",
   "metadata": {},
   "outputs": [
    {
     "data": {
      "text/plain": [
       "(1500,)"
      ]
     },
     "execution_count": 142,
     "metadata": {},
     "output_type": "execute_result"
    }
   ],
   "source": [
    "x_train.shape"
   ]
  },
  {
   "cell_type": "code",
   "execution_count": 143,
   "id": "e1c36018",
   "metadata": {},
   "outputs": [
    {
     "data": {
      "text/plain": [
       "(1000,)"
      ]
     },
     "execution_count": 143,
     "metadata": {},
     "output_type": "execute_result"
    }
   ],
   "source": [
    "x_test.shape"
   ]
  },
  {
   "cell_type": "code",
   "execution_count": null,
   "id": "510ba398",
   "metadata": {},
   "outputs": [],
   "source": []
  }
 ],
 "metadata": {
  "kernelspec": {
   "display_name": "Python 3 (ipykernel)",
   "language": "python",
   "name": "python3"
  },
  "language_info": {
   "codemirror_mode": {
    "name": "ipython",
    "version": 3
   },
   "file_extension": ".py",
   "mimetype": "text/x-python",
   "name": "python",
   "nbconvert_exporter": "python",
   "pygments_lexer": "ipython3",
   "version": "3.10.9"
  }
 },
 "nbformat": 4,
 "nbformat_minor": 5
}
